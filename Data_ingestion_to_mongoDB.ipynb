{
  "nbformat": 4,
  "nbformat_minor": 0,
  "metadata": {
    "colab": {
      "provenance": []
    },
    "kernelspec": {
      "name": "python3",
      "display_name": "Python 3"
    },
    "language_info": {
      "name": "python"
    }
  },
  "cells": [
    {
      "cell_type": "code",
      "source": [
        "!pip install pymongo"
      ],
      "metadata": {
        "colab": {
          "base_uri": "https://localhost:8080/"
        },
        "id": "z2BWEJ6QlQMl",
        "outputId": "c95d234f-3b7e-4db6-a407-25f0a5f9e13d"
      },
      "execution_count": 2,
      "outputs": [
        {
          "output_type": "stream",
          "name": "stdout",
          "text": [
            "Collecting pymongo\n",
            "  Downloading pymongo-4.10.1-cp310-cp310-manylinux_2_17_x86_64.manylinux2014_x86_64.whl.metadata (22 kB)\n",
            "Collecting dnspython<3.0.0,>=1.16.0 (from pymongo)\n",
            "  Downloading dnspython-2.7.0-py3-none-any.whl.metadata (5.8 kB)\n",
            "Downloading pymongo-4.10.1-cp310-cp310-manylinux_2_17_x86_64.manylinux2014_x86_64.whl (1.4 MB)\n",
            "\u001b[2K   \u001b[90m━━━━━━━━━━━━━━━━━━━━━━━━━━━━━━━━━━━━━━━━\u001b[0m \u001b[32m1.4/1.4 MB\u001b[0m \u001b[31m19.6 MB/s\u001b[0m eta \u001b[36m0:00:00\u001b[0m\n",
            "\u001b[?25hDownloading dnspython-2.7.0-py3-none-any.whl (313 kB)\n",
            "\u001b[2K   \u001b[90m━━━━━━━━━━━━━━━━━━━━━━━━━━━━━━━━━━━━━━━━\u001b[0m \u001b[32m313.6/313.6 kB\u001b[0m \u001b[31m18.0 MB/s\u001b[0m eta \u001b[36m0:00:00\u001b[0m\n",
            "\u001b[?25hInstalling collected packages: dnspython, pymongo\n",
            "Successfully installed dnspython-2.7.0 pymongo-4.10.1\n"
          ]
        }
      ]
    },
    {
      "cell_type": "code",
      "execution_count": 5,
      "metadata": {
        "id": "hu-dI6xYk-A8"
      },
      "outputs": [],
      "source": [
        "# importing module\n",
        "from pymongo import MongoClient\n",
        "\n",
        "from google.colab import userdata\n",
        "\n",
        "hostname = userdata.get('hostname')\n",
        "database = userdata.get('database')\n",
        "port =     userdata.get('port')\n",
        "username = userdata.get('username')\n",
        "password = userdata.get('password')\n",
        "\n",
        "uri = \"mongodb://\" + username + \":\" + password + \"@\" + hostname + \":\" + port + \"/\" + database\n",
        "\n",
        "# Connect with the portnumber and host\n",
        "client = MongoClient(uri)\n",
        "\n",
        "# Access database\n",
        "mydatabase = client[database]\n"
      ]
    },
    {
      "cell_type": "code",
      "source": [
        "# prompt: read the product category csv and create a collection and upload to above mongodb\n",
        "\n",
        "import pandas as pd\n",
        "from pymongo import MongoClient\n",
        "\n",
        "# ... (your existing code for connecting to MongoDB)\n",
        "\n",
        "def upload_product_category(csv_file_path):\n",
        "    try:\n",
        "        # Read the CSV file into a pandas DataFrame\n",
        "        df = pd.read_csv(csv_file_path)  # Replace with actual file path\n",
        "\n",
        "        # Access the product category collection\n",
        "        product_category_collection = mydatabase[\"product_category_name_translation\"]\n",
        "\n",
        "        # Prepare data for insertion\n",
        "        data_to_insert = df.to_dict(orient=\"records\")\n",
        "\n",
        "        # Insert the data into the MongoDB collection\n",
        "        product_category_collection.insert_many(data_to_insert)\n",
        "        print(f\"Successfully uploaded product categories from '{csv_file_path}' to MongoDB.\")\n",
        "\n",
        "    except FileNotFoundError:\n",
        "        print(f\"Error: File '{csv_file_path}' not found.\")\n",
        "    except Exception as e:\n",
        "        print(f\"An error occurred: {e}\")\n",
        "\n",
        "# Example usage:\n",
        "csv_file = \"/content/product_category_name_translation.csv\"  # Replace with your file path\n",
        "upload_product_category(csv_file)"
      ],
      "metadata": {
        "colab": {
          "base_uri": "https://localhost:8080/"
        },
        "id": "pr2orS0XlJN_",
        "outputId": "bcbb1367-e630-4b90-cfdb-f007882a7373"
      },
      "execution_count": 4,
      "outputs": [
        {
          "output_type": "stream",
          "name": "stdout",
          "text": [
            "Successfully uploaded product categories from '/content/product_category_name_translation.csv' to MongoDB.\n"
          ]
        }
      ]
    },
    {
      "cell_type": "code",
      "source": [],
      "metadata": {
        "id": "jFUfWHSjmNpV"
      },
      "execution_count": null,
      "outputs": []
    }
  ]
}